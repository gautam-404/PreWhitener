{
 "cells": [
  {
   "cell_type": "code",
   "execution_count": 1,
   "metadata": {},
   "outputs": [
    {
     "name": "stdout",
     "output_type": "stream",
     "text": [
      "/Users/anujgautam/Documents/Research-workspace/PreWhitener\n"
     ]
    }
   ],
   "source": [
    "import sys, os\n",
    "from pathlib import Path\n",
    "print(str(Path(os.path.abspath('')).parent))\n",
    "sys.path.append(str(Path(os.path.abspath('')).parent))\n",
    "from PreWhitener.PreWhitener import PreWhitener\n",
    "# from PreWhitener import PreWhitener\n",
    "# import numpy as np"
   ]
  },
  {
   "cell_type": "code",
   "execution_count": 2,
   "metadata": {},
   "outputs": [
    {
     "name": "stdout",
     "output_type": "stream",
     "text": [
      "Getting lightkurve data for HD20203\n"
     ]
    }
   ],
   "source": [
    "obj = PreWhitener('HD20203')"
   ]
  },
  {
   "cell_type": "code",
   "execution_count": 3,
   "metadata": {},
   "outputs": [
    {
     "name": "stderr",
     "output_type": "stream",
     "text": [
      "Pre-whitening:   0%|          | 0/100 [00:00<?, ?it/s]"
     ]
    },
    {
     "name": "stderr",
     "output_type": "stream",
     "text": [
      "Pre-whitening: 100%|██████████| 100/100 [01:04<00:00,  1.54it/s]\n"
     ]
    },
    {
     "name": "stdout",
     "output_type": "stream",
     "text": [
      "Pre-whitening complete after 100 iterations\n"
     ]
    },
    {
     "data": {
      "image/png": "[encoded data removed]",
      "text/plain": [
       "<Figure size 640x480 with 1 Axes>"
      ]
     },
     "metadata": {},
     "output_type": "display_data"
    }
   ],
   "source": [
    "obj.auto()"
   ]
  },
  {
   "cell_type": "code",
   "execution_count": 3,
   "metadata": {},
   "outputs": [
    {
     "data": {
      "text/html": [
       "<div><i>TessLightCurve length=31121 LABEL=&quot;TIC 274038922&quot; SECTOR=31 AUTHOR=SPOC FLUX_ORIGIN=pdcsap_flux</i>\n",
       "<table id=\"table5443583952\" class=\"table-striped table-bordered table-condensed\">\n",
       "<thead><tr><th>time</th><th>flux</th><th>flux_err</th><th>timecorr</th><th>cadenceno</th><th>centroid_col</th><th>centroid_row</th><th>sap_flux</th><th>sap_flux_err</th><th>sap_bkg</th><th>sap_bkg_err</th><th>pdcsap_flux</th><th>pdcsap_flux_err</th><th>quality</th><th>psf_centr1</th><th>psf_centr1_err</th><th>psf_centr2</th><th>psf_centr2_err</th><th>mom_centr1</th><th>mom_centr1_err</th><th>mom_centr2</th><th>mom_centr2_err</th><th>pos_corr1</th><th>pos_corr2</th></tr></thead>\n",
       "<thead><tr><th></th><th></th><th></th><th>d</th><th></th><th>pix</th><th>pix</th><th>electron / s</th><th>electron / s</th><th>electron / s</th><th>electron / s</th><th>electron / s</th><th>electron / s</th><th></th><th>pix</th><th>pix</th><th>pix</th><th>pix</th><th>pix</th><th>pix</th><th>pix</th><th>pix</th><th>pix</th><th>pix</th></tr></thead>\n",
       "<thead><tr><th>Time</th><th>float32</th><th>float32</th><th>float32</th><th>int32</th><th>float64</th><th>float64</th><th>float32</th><th>float32</th><th>float32</th><th>float32</th><th>float32</th><th>float32</th><th>int32</th><th>float64</th><th>float32</th><th>float64</th><th>float32</th><th>float64</th><th>float32</th><th>float64</th><th>float32</th><th>float32</th><th>float32</th></tr></thead>\n",
       "<tr><td>1410.907858880644</td><td>1.0028609e+00</td><td>4.9258239e-04</td><td>5.2315346e-03</td><td>132082</td><td>624.02478</td><td>1317.85623</td><td>5.4472207e+04</td><td>2.6541656e+01</td><td>3.1308423e+03</td><td>7.2949443e+00</td><td>5.7075590e+04</td><td>2.8034227e+01</td><td>0</td><td>———</td><td>———</td><td>———</td><td>———</td><td>624.02478</td><td>4.6407239e-04</td><td>1317.85623</td><td>4.1822367e-04</td><td>-1.4632545e-01</td><td>1.8196632e-01</td></tr>\n",
       "<tr><td>1410.9092478253115</td><td>1.0016496e+00</td><td>4.9228215e-04</td><td>5.2315909e-03</td><td>132083</td><td>624.02730</td><td>1317.85661</td><td>5.4395484e+04</td><td>2.6525478e+01</td><td>3.1259924e+03</td><td>7.3089938e+00</td><td>5.7006656e+04</td><td>2.8017141e+01</td><td>0</td><td>———</td><td>———</td><td>———</td><td>———</td><td>624.02730</td><td>4.6436253e-04</td><td>1317.85661</td><td>4.1871751e-04</td><td>-1.4478694e-01</td><td>1.8236981e-01</td></tr>\n",
       "<tr><td>1410.910636769979</td><td>9.9902326e-01</td><td>4.9188809e-04</td><td>5.2316473e-03</td><td>132084</td><td>624.02704</td><td>1317.85399</td><td>5.4286457e+04</td><td>2.6504244e+01</td><td>3.1420093e+03</td><td>7.3092132e+00</td><td>5.6857180e+04</td><td>2.7994713e+01</td><td>0</td><td>———</td><td>———</td><td>———</td><td>———</td><td>624.02704</td><td>4.6463098e-04</td><td>1317.85399</td><td>4.1901198e-04</td><td>-1.4406587e-01</td><td>1.7900935e-01</td></tr>\n",
       "<tr><td>1410.9120257146458</td><td>9.9718338e-01</td><td>4.9134123e-04</td><td>5.2317036e-03</td><td>132085</td><td>624.02367</td><td>1317.85657</td><td>5.4169816e+04</td><td>2.6474777e+01</td><td>3.1256436e+03</td><td>7.2962499e+00</td><td>5.6752469e+04</td><td>2.7963589e+01</td><td>0</td><td>———</td><td>———</td><td>———</td><td>———</td><td>624.02367</td><td>4.6548666e-04</td><td>1317.85657</td><td>4.1941216e-04</td><td>-1.4780340e-01</td><td>1.8220577e-01</td></tr>\n",
       "<tr><td>1410.9134146593126</td><td>9.9832696e-01</td><td>4.9177196e-04</td><td>5.2317600e-03</td><td>132086</td><td>624.02584</td><td>1317.85239</td><td>5.4241508e+04</td><td>2.6497990e+01</td><td>3.1389392e+03</td><td>7.3050532e+00</td><td>5.6817551e+04</td><td>2.7988106e+01</td><td>0</td><td>———</td><td>———</td><td>———</td><td>———</td><td>624.02584</td><td>4.6542077e-04</td><td>1317.85239</td><td>4.1952342e-04</td><td>-1.4484802e-01</td><td>1.7762119e-01</td></tr>\n",
       "<tr><td>1410.91480360398</td><td>9.9879181e-01</td><td>4.9183046e-04</td><td>5.2318163e-03</td><td>132087</td><td>624.02860</td><td>1317.84793</td><td>5.4271906e+04</td><td>2.6501139e+01</td><td>3.1352102e+03</td><td>7.3058434e+00</td><td>5.6844008e+04</td><td>2.7991432e+01</td><td>0</td><td>———</td><td>———</td><td>———</td><td>———</td><td>624.02860</td><td>4.6454361e-04</td><td>1317.84793</td><td>4.1911603e-04</td><td>-1.4131072e-01</td><td>1.7357071e-01</td></tr>\n",
       "<tr><td>1410.9161925486476</td><td>1.0001935e+00</td><td>4.9219769e-04</td><td>5.2318727e-03</td><td>132088</td><td>624.02396</td><td>1317.85589</td><td>5.4342055e+04</td><td>2.6520926e+01</td><td>3.1339722e+03</td><td>7.3070540e+00</td><td>5.6923781e+04</td><td>2.8012335e+01</td><td>0</td><td>———</td><td>———</td><td>———</td><td>———</td><td>624.02396</td><td>4.6479786e-04</td><td>1317.85589</td><td>4.1896151e-04</td><td>-1.4754568e-01</td><td>1.8223460e-01</td></tr>\n",
       "<tr><td>1410.9175814933144</td><td>1.0003151e+00</td><td>4.9208954e-04</td><td>5.2319290e-03</td><td>132089</td><td>624.02527</td><td>1317.85155</td><td>5.4337695e+04</td><td>2.6515100e+01</td><td>3.1398191e+03</td><td>7.3044429e+00</td><td>5.6930699e+04</td><td>2.8006180e+01</td><td>0</td><td>———</td><td>———</td><td>———</td><td>———</td><td>624.02527</td><td>4.6480595e-04</td><td>1317.85155</td><td>4.1872283e-04</td><td>-1.4524712e-01</td><td>1.7794870e-01</td></tr>\n",
       "<tr><td>1410.918970437982</td><td>1.0016338e+00</td><td>4.9236830e-04</td><td>5.2319854e-03</td><td>132090</td><td>624.02977</td><td>1317.84867</td><td>5.4425898e+04</td><td>2.6530121e+01</td><td>3.1206917e+03</td><td>7.3007784e+00</td><td>5.7005754e+04</td><td>2.8022045e+01</td><td>0</td><td>———</td><td>———</td><td>———</td><td>———</td><td>624.02977</td><td>4.6402056e-04</td><td>1317.84867</td><td>4.1841727e-04</td><td>-1.4135975e-01</td><td>1.7357881e-01</td></tr>\n",
       "<tr><td>...</td><td>...</td><td>...</td><td>...</td><td>...</td><td>...</td><td>...</td><td>...</td><td>...</td><td>...</td><td>...</td><td>...</td><td>...</td><td>...</td><td>...</td><td>...</td><td>...</td><td>...</td><td>...</td><td>...</td><td>...</td><td>...</td><td>...</td><td>...</td></tr>\n",
       "<tr><td>2169.9369897915085</td><td>1.0022185e+00</td><td>4.9576670e-04</td><td>5.5229785e-03</td><td>678583</td><td>1287.60385</td><td>1301.05337</td><td>5.4338559e+04</td><td>2.6691069e+01</td><td>3.5397366e+03</td><td>7.4899912e+00</td><td>5.6966320e+04</td><td>2.8179489e+01</td><td>0</td><td>———</td><td>———</td><td>———</td><td>———</td><td>1287.60385</td><td>4.4297089e-04</td><td>1301.05337</td><td>4.3177922e-04</td><td>-1.3554236e-03</td><td>-1.1481216e-01</td></tr>\n",
       "<tr><td>2169.938378657906</td><td>1.0014658e+00</td><td>4.9569528e-04</td><td>5.5229566e-03</td><td>678584</td><td>1287.59012</td><td>1301.04649</td><td>5.4325941e+04</td><td>2.6687223e+01</td><td>3.5357097e+03</td><td>7.4847512e+00</td><td>5.6923539e+04</td><td>2.8175430e+01</td><td>0</td><td>———</td><td>———</td><td>———</td><td>———</td><td>1287.59012</td><td>4.4305003e-04</td><td>1301.04649</td><td>4.3200946e-04</td><td>-1.8029608e-02</td><td>-1.2325183e-01</td></tr>\n",
       "<tr><td>2169.939767524304</td><td>1.0038625e+00</td><td>4.9594638e-04</td><td>5.5229347e-03</td><td>678585</td><td>1287.59553</td><td>1301.04300</td><td>5.4414184e+04</td><td>2.6700743e+01</td><td>3.5273579e+03</td><td>7.4790330e+00</td><td>5.7059766e+04</td><td>2.8189703e+01</td><td>0</td><td>———</td><td>———</td><td>———</td><td>———</td><td>1287.59553</td><td>4.4274426e-04</td><td>1301.04300</td><td>4.3144080e-04</td><td>-1.1842063e-02</td><td>-1.2605472e-01</td></tr>\n",
       "<tr><td>2169.941156390701</td><td>1.0025476e+00</td><td>4.9592892e-04</td><td>5.5229128e-03</td><td>678586</td><td>1287.60224</td><td>1301.04587</td><td>5.4396570e+04</td><td>2.6699804e+01</td><td>3.5348728e+03</td><td>7.4796252e+00</td><td>5.6985031e+04</td><td>2.8188711e+01</td><td>0</td><td>———</td><td>———</td><td>———</td><td>———</td><td>1287.60224</td><td>4.4203902e-04</td><td>1301.04587</td><td>4.3150209e-04</td><td>-4.6394374e-03</td><td>-1.2244327e-01</td></tr>\n",
       "<tr><td>2169.9425452570986</td><td>1.0027320e+00</td><td>4.9608905e-04</td><td>5.5228909e-03</td><td>678587</td><td>1287.59080</td><td>1301.05097</td><td>5.4429340e+04</td><td>2.6708424e+01</td><td>3.5322690e+03</td><td>7.4903316e+00</td><td>5.6995512e+04</td><td>2.8197813e+01</td><td>0</td><td>———</td><td>———</td><td>———</td><td>———</td><td>1287.59080</td><td>4.4206905e-04</td><td>1301.05097</td><td>4.3068247e-04</td><td>-1.5813455e-02</td><td>-1.1753828e-01</td></tr>\n",
       "<tr><td>2169.9439341234956</td><td>1.0049893e+00</td><td>4.9652159e-04</td><td>5.5228691e-03</td><td>678588</td><td>1287.60291</td><td>1301.05092</td><td>5.4548242e+04</td><td>2.6731710e+01</td><td>3.5341965e+03</td><td>7.4832687e+00</td><td>5.7123816e+04</td><td>2.8222399e+01</td><td>0</td><td>———</td><td>———</td><td>———</td><td>———</td><td>1287.60291</td><td>4.4113392e-04</td><td>1301.05092</td><td>4.2998034e-04</td><td>-3.5120652e-03</td><td>-1.1626475e-01</td></tr>\n",
       "<tr><td>2169.945322989893</td><td>1.0016745e+00</td><td>4.9579720e-04</td><td>5.5228472e-03</td><td>678589</td><td>1287.59672</td><td>1301.05270</td><td>5.4362777e+04</td><td>2.6692711e+01</td><td>3.5386094e+03</td><td>7.4822416e+00</td><td>5.6935402e+04</td><td>2.8181223e+01</td><td>0</td><td>———</td><td>———</td><td>———</td><td>———</td><td>1287.59672</td><td>4.4219635e-04</td><td>1301.05270</td><td>4.3124874e-04</td><td>-9.3755601e-03</td><td>-1.1494371e-01</td></tr>\n",
       "<tr><td>2169.946711856291</td><td>1.0018798e+00</td><td>4.9560139e-04</td><td>5.5228253e-03</td><td>678590</td><td>1287.59803</td><td>1301.05265</td><td>5.4306523e+04</td><td>2.6682169e+01</td><td>3.5337974e+03</td><td>7.4879889e+00</td><td>5.6947074e+04</td><td>2.8170094e+01</td><td>0</td><td>———</td><td>———</td><td>———</td><td>———</td><td>1287.59803</td><td>4.4329980e-04</td><td>1301.05265</td><td>4.3170687e-04</td><td>-7.4570249e-03</td><td>-1.1511483e-01</td></tr>\n",
       "<tr><td>2169.948100722689</td><td>1.0012580e+00</td><td>4.9546082e-04</td><td>5.5228034e-03</td><td>678591</td><td>1287.59020</td><td>1301.04409</td><td>5.4279531e+04</td><td>2.6674599e+01</td><td>3.5345085e+03</td><td>7.4897528e+00</td><td>5.6911730e+04</td><td>2.8162102e+01</td><td>0</td><td>———</td><td>———</td><td>———</td><td>———</td><td>1287.59020</td><td>4.4345122e-04</td><td>1301.04409</td><td>4.3179194e-04</td><td>-1.5661350e-02</td><td>-1.2560292e-01</td></tr>\n",
       "<tr><td>2169.9494895890866</td><td>9.9987566e-01</td><td>4.9532519e-04</td><td>5.5227815e-03</td><td>678592</td><td>1287.59775</td><td>1301.04246</td><td>5.4253688e+04</td><td>2.6667299e+01</td><td>3.5315347e+03</td><td>7.4827747e+00</td><td>5.6833156e+04</td><td>2.8154394e+01</td><td>0</td><td>———</td><td>———</td><td>———</td><td>———</td><td>1287.59775</td><td>4.4298454e-04</td><td>1301.04246</td><td>4.3166106e-04</td><td>-8.7505756e-03</td><td>-1.2661943e-01</td></tr>\n",
       "</table></div>"
      ],
      "text/plain": [
       "<TessLightCurve length=31121 LABEL=\"TIC 274038922\" SECTOR=31 AUTHOR=SPOC FLUX_ORIGIN=pdcsap_flux>\n",
       "       time             flux      ...   pos_corr1      pos_corr2   \n",
       "                                  ...      pix            pix      \n",
       "       Time           float32     ...    float32        float32    \n",
       "------------------ -------------- ... -------------- --------------\n",
       " 1410.907858880644  1.0028609e+00 ... -1.4632545e-01  1.8196632e-01\n",
       "1410.9092478253115  1.0016496e+00 ... -1.4478694e-01  1.8236981e-01\n",
       " 1410.910636769979  9.9902326e-01 ... -1.4406587e-01  1.7900935e-01\n",
       "1410.9120257146458  9.9718338e-01 ... -1.4780340e-01  1.8220577e-01\n",
       "1410.9134146593126  9.9832696e-01 ... -1.4484802e-01  1.7762119e-01\n",
       "  1410.91480360398  9.9879181e-01 ... -1.4131072e-01  1.7357071e-01\n",
       "1410.9161925486476  1.0001935e+00 ... -1.4754568e-01  1.8223460e-01\n",
       "1410.9175814933144  1.0003151e+00 ... -1.4524712e-01  1.7794870e-01\n",
       " 1410.918970437982  1.0016338e+00 ... -1.4135975e-01  1.7357881e-01\n",
       "               ...            ... ...            ...            ...\n",
       "2169.9369897915085  1.0022185e+00 ... -1.3554236e-03 -1.1481216e-01\n",
       " 2169.938378657906  1.0014658e+00 ... -1.8029608e-02 -1.2325183e-01\n",
       " 2169.939767524304  1.0038625e+00 ... -1.1842063e-02 -1.2605472e-01\n",
       " 2169.941156390701  1.0025476e+00 ... -4.6394374e-03 -1.2244327e-01\n",
       "2169.9425452570986  1.0027320e+00 ... -1.5813455e-02 -1.1753828e-01\n",
       "2169.9439341234956  1.0049893e+00 ... -3.5120652e-03 -1.1626475e-01\n",
       " 2169.945322989893  1.0016745e+00 ... -9.3755601e-03 -1.1494371e-01\n",
       " 2169.946711856291  1.0018798e+00 ... -7.4570249e-03 -1.1511483e-01\n",
       " 2169.948100722689  1.0012580e+00 ... -1.5661350e-02 -1.2560292e-01\n",
       "2169.9494895890866  9.9987566e-01 ... -8.7505756e-03 -1.2661943e-01"
      ]
     },
     "execution_count": 3,
     "metadata": {},
     "output_type": "execute_result"
    }
   ],
   "source": [
    "obj.lc"
   ]
  },
  {
   "cell_type": "code",
   "execution_count": 4,
   "metadata": {},
   "outputs": [
    {
     "name": "stdout",
     "output_type": "stream",
     "text": [
      "<PreWhitener.PreWhitener.PreWhitener object at 0x143aa5bd0>\n"
     ]
    }
   ],
   "source": [
    "print(obj)"
   ]
  },
  {
   "cell_type": "code",
   "execution_count": 9,
   "metadata": {},
   "outputs": [
    {
     "data": {
      "text/html": [
       "<div>\n",
       "<style scoped>\n",
       "    .dataframe tbody tr th:only-of-type {\n",
       "        vertical-align: middle;\n",
       "    }\n",
       "\n",
       "    .dataframe tbody tr th {\n",
       "        vertical-align: top;\n",
       "    }\n",
       "\n",
       "    .dataframe thead th {\n",
       "        text-align: right;\n",
       "    }\n",
       "</style>\n",
       "<table border=\"1\" class=\"dataframe\">\n",
       "  <thead>\n",
       "    <tr style=\"text-align: right;\">\n",
       "      <th></th>\n",
       "      <th>freq</th>\n",
       "      <th>amp</th>\n",
       "      <th>label</th>\n",
       "    </tr>\n",
       "  </thead>\n",
       "  <tbody>\n",
       "    <tr>\n",
       "      <th>0</th>\n",
       "      <td>21.747408</td>\n",
       "      <td>0.004549</td>\n",
       "      <td>F1</td>\n",
       "    </tr>\n",
       "    <tr>\n",
       "      <th>1</th>\n",
       "      <td>41.490214</td>\n",
       "      <td>0.000774</td>\n",
       "      <td>F2</td>\n",
       "    </tr>\n",
       "    <tr>\n",
       "      <th>2</th>\n",
       "      <td>44.848690</td>\n",
       "      <td>0.001308</td>\n",
       "      <td>F3</td>\n",
       "    </tr>\n",
       "    <tr>\n",
       "      <th>3</th>\n",
       "      <td>48.456354</td>\n",
       "      <td>0.000994</td>\n",
       "      <td>F4</td>\n",
       "    </tr>\n",
       "    <tr>\n",
       "      <th>4</th>\n",
       "      <td>52.244814</td>\n",
       "      <td>0.001796</td>\n",
       "      <td>F5</td>\n",
       "    </tr>\n",
       "  </tbody>\n",
       "</table>\n",
       "</div>"
      ],
      "text/plain": [
       "        freq       amp label\n",
       "0  21.747408  0.004549    F1\n",
       "1  41.490214  0.000774    F2\n",
       "2  44.848690  0.001308    F3\n",
       "3  48.456354  0.000994    F4\n",
       "4  52.244814  0.001796    F5"
      ]
     },
     "execution_count": 9,
     "metadata": {},
     "output_type": "execute_result"
    }
   ],
   "source": [
    "obj.iterate()\n",
    "obj.freq_container"
   ]
  },
  {
   "cell_type": "code",
   "execution_count": null,
   "metadata": {},
   "outputs": [],
   "source": []
  },
  {
   "cell_type": "code",
   "execution_count": null,
   "metadata": {},
   "outputs": [],
   "source": []
  }
 ],
 "metadata": {
  "kernelspec": {
   "display_name": "Python 3",
   "language": "python",
   "name": "python3"
  },
  "language_info": {
   "codemirror_mode": {
    "name": "ipython",
    "version": 3
   },
   "file_extension": ".py",
   "mimetype": "text/x-python",
   "name": "python",
   "nbconvert_exporter": "python",
   "pygments_lexer": "ipython3",
   "version": "3.11.4"
  }
 },
 "nbformat": 4,
 "nbformat_minor": 2
}

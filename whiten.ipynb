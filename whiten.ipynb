{
 "cells": [
  {
   "cell_type": "code",
   "execution_count": 25,
   "metadata": {},
   "outputs": [],
   "source": [
    "import lightkurve as lk\n",
    "import pywhiten\n",
    "import numpy as np\n",
    "import matplotlib.pyplot as plt"
   ]
  },
  {
   "cell_type": "code",
   "execution_count": 32,
   "metadata": {},
   "outputs": [
    {
     "data": {
      "text/html": [
       "SearchResult containing 12 data products.\n",
       "\n",
       "<table id=\"table5507423504\">\n",
       "<thead><tr><th>#</th><th>mission</th><th>year</th><th>author</th><th>exptime</th><th>target_name</th><th>distance</th></tr></thead>\n",
       "<thead><tr><th></th><th></th><th></th><th></th><th>s</th><th></th><th>arcsec</th></tr></thead>\n",
       "<tr><td>0</td><td>TESS Sector 05</td><td>2018</td><td><a href='https://heasarc.gsfc.nasa.gov/docs/tess/pipeline.html'>SPOC</a></td><td>120</td><td>71134596</td><td>0.0</td></tr>\n",
       "<tr><td>1</td><td>TESS Sector 05</td><td>2018</td><td><a href='https://archive.stsci.edu/hlsp/tess-spoc'>TESS-SPOC</a></td><td>1800</td><td>71134596</td><td>0.0</td></tr>\n",
       "<tr><td>2</td><td>TESS Sector 05</td><td>2018</td><td><a href='https://archive.stsci.edu/hlsp/qlp'>QLP</a></td><td>1800</td><td>71134596</td><td>0.0</td></tr>\n",
       "<tr><td>3</td><td>TESS Sector 05</td><td>2018</td><td><a href='https://archive.stsci.edu/hlsp/tasoc'>TASOC</a></td><td>120</td><td>71134596</td><td>0.0</td></tr>\n",
       "<tr><td>4</td><td>TESS Sector 05</td><td>2018</td><td><a href='https://archive.stsci.edu/hlsp/cdips'>CDIPS</a></td><td>1800</td><td>71134596</td><td>0.0</td></tr>\n",
       "<tr><td>5</td><td>TESS Sector 05</td><td>2018</td><td><a href='https://archive.stsci.edu/hlsp/gsfc-eleanor-lite'>GSFC-ELEANOR-LITE</a></td><td>1800</td><td>71134596</td><td>0.0</td></tr>\n",
       "<tr><td>6</td><td>TESS Sector 05</td><td>2018</td><td><a href='https://archive.stsci.edu/hlsp/tasoc'>TASOC</a></td><td>1800</td><td>71134596</td><td>0.0</td></tr>\n",
       "<tr><td>7</td><td>TESS Sector 05</td><td>2018</td><td><a href='https://archive.stsci.edu/hlsp/tasoc'>TASOC</a></td><td>1800</td><td>71134596</td><td>0.0</td></tr>\n",
       "<tr><td>8</td><td>TESS Sector 05</td><td>2018</td><td><a href='https://archive.stsci.edu/hlsp/tglc'>TGLC</a></td><td>1800</td><td>71134596</td><td>0.0</td></tr>\n",
       "<tr><td>9</td><td>TESS Sector 32</td><td>2020</td><td><a href='https://heasarc.gsfc.nasa.gov/docs/tess/pipeline.html'>SPOC</a></td><td>120</td><td>71134596</td><td>0.0</td></tr>\n",
       "<tr><td>10</td><td>TESS Sector 32</td><td>2020</td><td><a href='https://archive.stsci.edu/hlsp/tess-spoc'>TESS-SPOC</a></td><td>600</td><td>71134596</td><td>0.0</td></tr>\n",
       "<tr><td>11</td><td>TESS Sector 32</td><td>2020</td><td><a href='https://archive.stsci.edu/hlsp/qlp'>QLP</a></td><td>600</td><td>71134596</td><td>0.0</td></tr>\n",
       "</table>"
      ],
      "text/plain": [
       "SearchResult containing 12 data products.\n",
       "\n",
       " #     mission     year       author      exptime target_name distance\n",
       "                                             s                 arcsec \n",
       "--- -------------- ---- ----------------- ------- ----------- --------\n",
       "  0 TESS Sector 05 2018              SPOC     120    71134596      0.0\n",
       "  1 TESS Sector 05 2018         TESS-SPOC    1800    71134596      0.0\n",
       "  2 TESS Sector 05 2018               QLP    1800    71134596      0.0\n",
       "  3 TESS Sector 05 2018             TASOC     120    71134596      0.0\n",
       "  4 TESS Sector 05 2018             CDIPS    1800    71134596      0.0\n",
       "  5 TESS Sector 05 2018 GSFC-ELEANOR-LITE    1800    71134596      0.0\n",
       "  6 TESS Sector 05 2018             TASOC    1800    71134596      0.0\n",
       "  7 TESS Sector 05 2018             TASOC    1800    71134596      0.0\n",
       "  8 TESS Sector 05 2018              TGLC    1800    71134596      0.0\n",
       "  9 TESS Sector 32 2020              SPOC     120    71134596      0.0\n",
       " 10 TESS Sector 32 2020         TESS-SPOC     600    71134596      0.0\n",
       " 11 TESS Sector 32 2020               QLP     600    71134596      0.0"
      ]
     },
     "execution_count": 32,
     "metadata": {},
     "output_type": "execute_result"
    }
   ],
   "source": [
    "# star = 'HD47129'\n",
    "# star = 'HD20203'\n",
    "star = 'HD28548'\n",
    "lk_search = lk.search_lightcurve(star, mission=\"TESS\")\n",
    "lk_search"
   ]
  },
  {
   "cell_type": "code",
   "execution_count": 64,
   "metadata": {},
   "outputs": [],
   "source": [
    "lc = lk_search[0].download().remove_nans().remove_outliers()\n",
    "lc.to_csv(f'stars/{star}_lk.csv', overwrite=True)"
   ]
  },
  {
   "cell_type": "code",
   "execution_count": 65,
   "metadata": {},
   "outputs": [],
   "source": [
    "t, m, err = lc.time.value, lc.flux.value, lc.flux_err.value"
   ]
  },
  {
   "cell_type": "code",
   "execution_count": 66,
   "metadata": {},
   "outputs": [],
   "source": [
    "t, m, err = np.loadtxt(f'stars/{star}_lk.csv', delimiter=',', skiprows=1, unpack=True, usecols=(0,1,2))"
   ]
  },
  {
   "cell_type": "code",
   "execution_count": 67,
   "metadata": {},
   "outputs": [
    {
     "data": {
      "image/png": "[encoded data removed]",
      "text/plain": [
       "<Figure size 848.5x400 with 1 Axes>"
      ]
     },
     "metadata": {},
     "output_type": "display_data"
    }
   ],
   "source": [
    "lc.to_periodogram().plot()\n",
    "# plt.xlim(0, 24)\n",
    "plt.show()"
   ]
  },
  {
   "cell_type": "code",
   "execution_count": 62,
   "metadata": {},
   "outputs": [
    {
     "data": {
      "text/plain": [
       "(17719, 17719, 17719)"
      ]
     },
     "execution_count": 62,
     "metadata": {},
     "output_type": "execute_result"
    }
   ],
   "source": [
    "len(t), len(m), len(err)"
   ]
  },
  {
   "cell_type": "code",
   "execution_count": 146,
   "metadata": {},
   "outputs": [],
   "source": [
    "# pywhitener = pywhiten.PyWhitener(time=list(t), data=list(m), cfg_file='config.toml')\n",
    "config_dict = {'periodograms' : {'upper_limit':80}, \n",
    "               'autopw' : {'peak_selection_method' : 'slf', 'new_lc_generation_method' : 'mf',\n",
    "                           'peak_selection_highest_override' : 8, 'peak_selection_cutoff_sig' : 3.0,\n",
    "                           'cutoff_iteration' : 50, 'autopw.bounds' : {'phase_fit_rejection_criterion' : 0.1,\n",
    "                                                                       'freq_lower_coeff' : 0.8,\n",
    "                                                                       'freq_upper_coeff' : 1.2,\n",
    "                                                                       'amp_lower_coeff' : 0.8,\n",
    "                                                                       'amp_upper_coeff' : 1.2,\n",
    "                                                                       'phase_lower' : -100,\n",
    "                                                                       'phase_upper' : 100}}}\n",
    "pywhitener = pywhiten.PyWhitener(time=list(t), data=list(m), cfg=config_dict)"
   ]
  },
  {
   "cell_type": "code",
   "execution_count": 147,
   "metadata": {},
   "outputs": [
    {
     "name": "stdout",
     "output_type": "stream",
     "text": [
      "[pywhiten] ITERATION 1\n",
      "[pywhiten] Identified single frequency model:\n",
      "\tf0: f = 61.51344 | a = 121.593 | phi = 0.385\n",
      "\tMF ZP: 0.0573504440330799\n",
      "[pywhiten] Completed optimization of current complete variability model:\n",
      "\tf0: f = 61.51344 | a = 121.593 | phi = 0.385\n",
      "[pywhiten] ITERATION 2\n",
      "[pywhiten] Identified single frequency model:\n",
      "\tf1: f = 65.24588 | a = 116.233 | phi = -1.085\n",
      "\tMF ZP: 0.05257816086114056\n",
      "[pywhiten] Completed optimization of current complete variability model:\n",
      "\tf0: f = 61.51344 | a = 121.929 | phi = 0.385\n",
      "\tf1: f = 65.24588 | a = 116.235 | phi = -1.086\n",
      "[pywhiten] ITERATION 3\n",
      "[pywhiten] Identified single frequency model:\n",
      "\tf2: f = 57.55519 | a = 79.107 | phi = -1.212\n",
      "\tMF ZP: 0.04768828431715648\n",
      "[pywhiten] Completed optimization of current complete variability model:\n",
      "\tf0: f = 61.51344 | a = 122.034 | phi = 0.385\n",
      "\tf1: f = 65.24588 | a = 116.419 | phi = -1.079\n",
      "\tf2: f = 57.55519 | a = 79.109 | phi = -1.211\n",
      "[pywhiten] ITERATION 4\n",
      "[pywhiten] Identified single frequency model:\n",
      "\tf3: f = 38.77167 | a = 52.403 | phi = 2.011\n",
      "\tMF ZP: 0.014973636057276283\n",
      "[pywhiten] Completed optimization of current complete variability model:\n",
      "\tf0: f = 61.51344 | a = 122.117 | phi = 0.385\n",
      "\tf1: f = 65.24588 | a = 116.382 | phi = -1.079\n",
      "\tf2: f = 57.55519 | a = 79.095 | phi = -1.211\n",
      "\tf3: f = 38.77167 | a = 52.403 | phi = 2.011\n",
      "[pywhiten] ITERATION 5\n",
      "[pywhiten] Identified single frequency model:\n",
      "\tf4: f = 65.13981 | a = 50.247 | phi = -1.009\n",
      "\tMF ZP: 0.011377530075822036\n",
      "[pywhiten] Completed optimization of current complete variability model:\n",
      "\tf0: f = 61.51343 | a = 121.938 | phi = 0.399\n",
      "\tf1: f = 65.24639 | a = 115.502 | phi = -1.829\n",
      "\tf2: f = 57.55522 | a = 79.043 | phi = -1.262\n",
      "\tf3: f = 38.77168 | a = 52.338 | phi = 1.986\n",
      "\tf4: f = 65.13984 | a = 50.487 | phi = -1.041\n",
      "[pywhiten] ITERATION 6\n",
      "[pywhiten] Identified single frequency model:\n",
      "\tf5: f = 57.63967 | a = 36.884 | phi = -0.786\n",
      "\tMF ZP: -0.03255479441663102\n",
      "[pywhiten] Completed optimization of current complete variability model:\n",
      "\tf0: f = 61.51342 | a = 122.062 | phi = 0.410\n",
      "\tf1: f = 65.24640 | a = 115.527 | phi = -1.837\n",
      "\tf2: f = 57.55759 | a = 79.427 | phi = -4.706\n",
      "\tf3: f = 38.77167 | a = 52.349 | phi = 2.012\n",
      "\tf4: f = 65.13979 | a = 50.480 | phi = -0.977\n",
      "\tf5: f = 57.63830 | a = 38.995 | phi = 1.199\n",
      "[pywhiten] ITERATION 7\n",
      "[pywhiten] Identified single frequency model:\n",
      "\tf6: f = 35.68925 | a = 34.936 | phi = 1.124\n",
      "\tMF ZP: -0.07825779897305887\n",
      "[pywhiten] Completed optimization of current complete variability model:\n",
      "\tf0: f = 61.51342 | a = 122.082 | phi = 0.410\n",
      "\tf1: f = 65.24640 | a = 115.518 | phi = -1.837\n",
      "\tf2: f = 57.55759 | a = 79.402 | phi = -4.705\n",
      "\tf3: f = 38.77167 | a = 52.514 | phi = 2.012\n",
      "\tf4: f = 65.13979 | a = 50.472 | phi = -0.977\n",
      "\tf5: f = 57.63830 | a = 38.973 | phi = 1.200\n",
      "\tf6: f = 35.68925 | a = 34.937 | phi = 1.125\n",
      "[pywhiten] ITERATION 8\n",
      "[pywhiten] Identified single frequency model:\n",
      "\tf7: f = 53.81051 | a = 31.802 | phi = 1.154\n",
      "\tMF ZP: -0.09115302334912348\n",
      "[pywhiten] Completed optimization of current complete variability model:\n",
      "\tf0: f = 61.51342 | a = 122.050 | phi = 0.410\n",
      "\tf1: f = 65.24640 | a = 115.520 | phi = -1.837\n",
      "\tf2: f = 57.55759 | a = 79.513 | phi = -4.705\n",
      "\tf3: f = 38.77167 | a = 52.561 | phi = 2.012\n",
      "\tf4: f = 65.13979 | a = 50.453 | phi = -0.976\n",
      "\tf5: f = 57.63830 | a = 39.065 | phi = 1.200\n",
      "\tf6: f = 35.68925 | a = 34.908 | phi = 1.125\n",
      "\tf7: f = 53.81051 | a = 31.804 | phi = 1.154\n",
      "[pywhiten] ITERATION 9\n",
      "[pywhiten] Identified single frequency model:\n",
      "\tf8: f = 61.47880 | a = 30.108 | phi = 0.427\n",
      "\tMF ZP: -0.06576612331873571\n",
      "[pywhiten] Completed optimization of current complete variability model:\n",
      "\tf0: f = 61.51478 | a = 120.751 | phi = -1.555\n",
      "\tf1: f = 65.24641 | a = 115.406 | phi = -1.852\n",
      "\tf2: f = 57.55762 | a = 79.666 | phi = -4.740\n",
      "\tf3: f = 38.77171 | a = 52.559 | phi = 1.944\n",
      "\tf4: f = 65.13982 | a = 50.331 | phi = -1.016\n",
      "\tf5: f = 57.63816 | a = 39.186 | phi = 1.408\n",
      "\tf6: f = 35.68919 | a = 34.965 | phi = 1.202\n",
      "\tf7: f = 53.81048 | a = 31.696 | phi = 1.208\n",
      "\tf8: f = 61.48142 | a = 31.917 | phi = -3.351\n",
      "[pywhiten] ITERATION 10\n",
      "[pywhiten] Identified single frequency model:\n",
      "\tf9: f = 39.04572 | a = 29.761 | phi = -0.240\n",
      "\tMF ZP: -0.05963278186254816\n",
      "[pywhiten] Completed optimization of current complete variability model:\n",
      "\tf0: f = 61.51477 | a = 120.748 | phi = -1.543\n",
      "\tf1: f = 65.24641 | a = 115.441 | phi = -1.852\n",
      "\tf2: f = 57.55761 | a = 79.656 | phi = -4.724\n",
      "\tf3: f = 38.77246 | a = 51.655 | phi = 0.859\n",
      "\tf4: f = 65.13980 | a = 50.339 | phi = -0.990\n",
      "\tf5: f = 57.63815 | a = 39.144 | phi = 1.422\n",
      "\tf6: f = 35.68916 | a = 34.858 | phi = 1.253\n",
      "\tf7: f = 53.81047 | a = 31.668 | phi = 1.217\n",
      "\tf8: f = 61.48139 | a = 31.892 | phi = -3.313\n",
      "\tf9: f = 39.04579 | a = 29.936 | phi = -0.345\n",
      "[pywhiten] ITERATION 11\n",
      "[pywhiten] Identified single frequency model:\n",
      "\tf10: f = 49.93032 | a = 27.230 | phi = 0.552\n",
      "\tMF ZP: -0.060533264879364085\n",
      "[pywhiten] Completed optimization of current complete variability model:\n",
      "\tf0: f = 61.51477 | a = 120.726 | phi = -1.543\n",
      "\tf1: f = 65.24641 | a = 115.418 | phi = -1.852\n",
      "\tf2: f = 57.55761 | a = 79.682 | phi = -4.723\n",
      "\tf3: f = 38.77246 | a = 51.656 | phi = 0.859\n",
      "\tf4: f = 65.13980 | a = 50.319 | phi = -0.990\n",
      "\tf5: f = 57.63815 | a = 39.116 | phi = 1.422\n",
      "\tf6: f = 35.68916 | a = 34.849 | phi = 1.253\n",
      "\tf7: f = 53.81047 | a = 31.557 | phi = 1.217\n",
      "\tf8: f = 61.48139 | a = 31.928 | phi = -3.313\n",
      "\tf9: f = 39.04579 | a = 29.977 | phi = -0.345\n",
      "\tf10: f = 49.93032 | a = 27.231 | phi = 0.552\n",
      "[pywhiten] ITERATION 12\n",
      "[pywhiten] Identified single frequency model:\n",
      "\tf11: f = 35.57153 | a = 26.470 | phi = 1.167\n",
      "\tMF ZP: -0.04813701444882146\n",
      "[pywhiten] Completed optimization of current complete variability model:\n",
      "\tf0: f = 61.51478 | a = 120.766 | phi = -1.563\n",
      "\tf1: f = 65.24639 | a = 115.412 | phi = -1.816\n",
      "\tf2: f = 57.55758 | a = 79.704 | phi = -4.691\n",
      "\tf3: f = 38.77239 | a = 51.700 | phi = 0.958\n",
      "\tf4: f = 65.13984 | a = 50.313 | phi = -1.040\n",
      "\tf5: f = 57.63821 | a = 39.081 | phi = 1.338\n",
      "\tf6: f = 35.68917 | a = 34.801 | phi = 1.237\n",
      "\tf7: f = 53.81045 | a = 31.577 | phi = 1.247\n",
      "\tf8: f = 61.48132 | a = 31.936 | phi = -3.205\n",
      "\tf9: f = 39.04576 | a = 29.996 | phi = -0.299\n",
      "\tf10: f = 49.93040 | a = 27.282 | phi = 0.428\n",
      "\tf11: f = 35.57127 | a = 26.585 | phi = 1.538\n",
      "[pywhiten] ITERATION 13\n",
      "[pywhiten] Identified single frequency model:\n",
      "\tf12: f = 39.16018 | a = 26.325 | phi = -0.224\n",
      "\tMF ZP: -0.05121464328047122\n",
      "[pywhiten] Completed optimization of current complete variability model:\n",
      "\tf0: f = 61.51480 | a = 120.710 | phi = -1.585\n",
      "\tf1: f = 65.24638 | a = 115.427 | phi = -1.813\n",
      "\tf2: f = 57.55759 | a = 79.687 | phi = -4.703\n",
      "\tf3: f = 38.77186 | a = 50.907 | phi = 1.730\n",
      "\tf4: f = 65.13982 | a = 50.352 | phi = -1.025\n",
      "\tf5: f = 57.63819 | a = 39.067 | phi = 1.360\n",
      "\tf6: f = 35.68921 | a = 34.765 | phi = 1.190\n",
      "\tf7: f = 53.81047 | a = 31.595 | phi = 1.212\n",
      "\tf8: f = 61.48134 | a = 31.969 | phi = -3.244\n",
      "\tf9: f = 39.04288 | a = 31.068 | phi = 3.882\n",
      "\tf10: f = 49.93039 | a = 27.287 | phi = 0.445\n",
      "\tf11: f = 35.57115 | a = 26.536 | phi = 1.722\n",
      "\tf12: f = 39.16023 | a = 27.142 | phi = -0.289\n",
      "[pywhiten] ITERATION 14\n"
     ]
    },
    {
     "ename": "RuntimeError",
     "evalue": "Optimal parameters not found: Number of calls to function has reached maxfev = 1000.",
     "output_type": "error",
     "traceback": [
      "\u001b[0;31m---------------------------------------------------------------------------\u001b[0m",
      "\u001b[0;31mRuntimeError\u001b[0m                              Traceback (most recent call last)",
      "Cell \u001b[0;32mIn[147], line 1\u001b[0m\n\u001b[0;32m----> 1\u001b[0m pywhitener\u001b[39m.\u001b[39;49mauto()\n\u001b[1;32m      2\u001b[0m \u001b[39m# for i in range(30):\u001b[39;00m\n\u001b[1;32m      3\u001b[0m \u001b[39m#     pywhitener.it_pw()\u001b[39;00m\n\u001b[1;32m      4\u001b[0m pywhitener\u001b[39m.\u001b[39mpost_pw()\n",
      "File \u001b[0;32m~/.pyenv/versions/3.11.4/lib/python3.11/site-packages/pywhiten/PyWhitener.py:175\u001b[0m, in \u001b[0;36mPyWhitener.auto\u001b[0;34m(self)\u001b[0m\n\u001b[1;32m    173\u001b[0m     success_flag \u001b[39m=\u001b[39m \u001b[39mself\u001b[39m\u001b[39m.\u001b[39mit_pw(peak_selection_method\u001b[39m=\u001b[39m\u001b[39m\"\u001b[39m\u001b[39mhighest\u001b[39m\u001b[39m\"\u001b[39m)\n\u001b[1;32m    174\u001b[0m \u001b[39melse\u001b[39;00m:\n\u001b[0;32m--> 175\u001b[0m     success_flag \u001b[39m=\u001b[39m \u001b[39mself\u001b[39;49m\u001b[39m.\u001b[39;49mit_pw(peak_selection_method\u001b[39m=\u001b[39;49m\u001b[39mself\u001b[39;49m\u001b[39m.\u001b[39;49mcfg[\u001b[39m\"\u001b[39;49m\u001b[39mautopw\u001b[39;49m\u001b[39m\"\u001b[39;49m][\u001b[39m\"\u001b[39;49m\u001b[39mpeak_selection_method\u001b[39;49m\u001b[39m\"\u001b[39;49m])\n\u001b[1;32m    176\u001b[0m \u001b[39mif\u001b[39;00m success_flag \u001b[39m==\u001b[39m \u001b[39m1\u001b[39m:\n\u001b[1;32m    177\u001b[0m     \u001b[39mbreak\u001b[39;00m\n",
      "File \u001b[0;32m~/.pyenv/versions/3.11.4/lib/python3.11/site-packages/pywhiten/PyWhitener.py:126\u001b[0m, in \u001b[0;36mPyWhitener.it_pw\u001b[0;34m(self, peak_selection_method)\u001b[0m\n\u001b[1;32m    123\u001b[0m     \u001b[39mprint\u001b[39m(\u001b[39mf\u001b[39m\u001b[39m\"\u001b[39m\u001b[39m[pywhiten] ITERATION \u001b[39m\u001b[39m{\u001b[39;00m\u001b[39mself\u001b[39m\u001b[39m.\u001b[39mfreqs\u001b[39m.\u001b[39mn\u001b[39m \u001b[39m\u001b[39m+\u001b[39m\u001b[39m \u001b[39m\u001b[39m1\u001b[39m\u001b[39m}\u001b[39;00m\u001b[39m\"\u001b[39m)\n\u001b[1;32m    125\u001b[0m \u001b[39m# First stage, identify a candidate frequency/amplitude from the most recent periodogram\u001b[39;00m\n\u001b[0;32m--> 126\u001b[0m candidate_frequency, candidate_amplitude \u001b[39m=\u001b[39m \u001b[39mself\u001b[39;49m\u001b[39m.\u001b[39;49mid_peak(method\u001b[39m=\u001b[39;49mpeak_selection_method,\n\u001b[1;32m    127\u001b[0m                                                         min_prov_sig\u001b[39m=\u001b[39;49m\n\u001b[1;32m    128\u001b[0m                                                         \u001b[39mself\u001b[39;49m\u001b[39m.\u001b[39;49mcfg[\u001b[39m\"\u001b[39;49m\u001b[39mautopw\u001b[39;49m\u001b[39m\"\u001b[39;49m][\u001b[39m\"\u001b[39;49m\u001b[39mpeak_selection_cutoff_sig\u001b[39;49m\u001b[39m\"\u001b[39;49m])\n\u001b[1;32m    129\u001b[0m \u001b[39mif\u001b[39;00m \u001b[39mself\u001b[39m\u001b[39m.\u001b[39mcfg[\u001b[39m\"\u001b[39m\u001b[39moutput\u001b[39m\u001b[39m\"\u001b[39m][\u001b[39m\"\u001b[39m\u001b[39mdebug\u001b[39m\u001b[39m\"\u001b[39m][\u001b[39m\"\u001b[39m\u001b[39mprint_debug_messages\u001b[39m\u001b[39m\"\u001b[39m]:\n\u001b[1;32m    130\u001b[0m     \u001b[39mprint\u001b[39m(\u001b[39mf\u001b[39m\u001b[39m\"\u001b[39m\u001b[39m[DEBUG][pywhiten] Identified candidate frequency \u001b[39m\u001b[39m{\u001b[39;00mcandidate_frequency\u001b[39m}\u001b[39;00m\u001b[39m and\u001b[39m\u001b[39m\"\u001b[39m\n\u001b[1;32m    131\u001b[0m           \u001b[39mf\u001b[39m\u001b[39m\"\u001b[39m\u001b[39m amplitude \u001b[39m\u001b[39m{\u001b[39;00mcandidate_amplitude\u001b[39m}\u001b[39;00m\u001b[39m using method \u001b[39m\u001b[39m{\u001b[39;00mpeak_selection_method\u001b[39m}\u001b[39;00m\u001b[39m\"\u001b[39m)\n",
      "File \u001b[0;32m~/.pyenv/versions/3.11.4/lib/python3.11/site-packages/pywhiten/PyWhitener.py:101\u001b[0m, in \u001b[0;36mPyWhitener.id_peak\u001b[0;34m(self, method, min_prov_sig, idx)\u001b[0m\n\u001b[1;32m     86\u001b[0m \u001b[39mdef\u001b[39;00m \u001b[39mid_peak\u001b[39m(\u001b[39mself\u001b[39m, method, min_prov_sig \u001b[39m=\u001b[39m \u001b[39m0\u001b[39m, idx\u001b[39m=\u001b[39m\u001b[39m-\u001b[39m\u001b[39m1\u001b[39m):\n\u001b[1;32m     87\u001b[0m \u001b[39m    \u001b[39m\u001b[39m\"\"\"\u001b[39;00m\n\u001b[1;32m     88\u001b[0m \u001b[39m    Gets a candidate frequency/amplitude pair from a periodogram belonging to a light curve in lcs list\u001b[39;00m\n\u001b[1;32m     89\u001b[0m \u001b[39m    Args:\u001b[39;00m\n\u001b[0;32m   (...)\u001b[0m\n\u001b[1;32m     99\u001b[0m \u001b[39m        float: candidate amplitude.\u001b[39;00m\n\u001b[1;32m    100\u001b[0m \u001b[39m    \"\"\"\u001b[39;00m\n\u001b[0;32m--> 101\u001b[0m     \u001b[39mreturn\u001b[39;00m \u001b[39mself\u001b[39;49m\u001b[39m.\u001b[39;49mlcs[idx]\u001b[39m.\u001b[39;49mperiodogram\u001b[39m.\u001b[39;49mselect_peak(method\u001b[39m=\u001b[39;49mmethod,\n\u001b[1;32m    102\u001b[0m                                                  min_prov_sig\u001b[39m=\u001b[39;49mmin_prov_sig)\n",
      "File \u001b[0;32m~/.pyenv/versions/3.11.4/lib/python3.11/site-packages/pywhiten/data/Periodogram.py:314\u001b[0m, in \u001b[0;36mPeriodogram.select_peak\u001b[0;34m(self, method, min_prov_sig, mask)\u001b[0m\n\u001b[1;32m    310\u001b[0m     \u001b[39mpass\u001b[39;00m\n\u001b[1;32m    311\u001b[0m \u001b[39melif\u001b[39;00m method \u001b[39m==\u001b[39m \u001b[39m\"\u001b[39m\u001b[39mslf\u001b[39m\u001b[39m\"\u001b[39m:\n\u001b[1;32m    312\u001b[0m     \u001b[39m# we can just use the fit functions to dettermine a provisional noise level for all lsfreq values,\u001b[39;00m\n\u001b[1;32m    313\u001b[0m     \u001b[39m# then use this to make a mask to pass to highest_ampl\u001b[39;00m\n\u001b[0;32m--> 314\u001b[0m     working_mask \u001b[39m*\u001b[39m\u001b[39m=\u001b[39m \u001b[39mself\u001b[39;49m\u001b[39m.\u001b[39;49msig_slf(\u001b[39mself\u001b[39;49m\u001b[39m.\u001b[39;49mlsfreq, \u001b[39mself\u001b[39;49m\u001b[39m.\u001b[39;49mlsamp) \u001b[39m>\u001b[39m min_prov_sig\n\u001b[1;32m    315\u001b[0m     \u001b[39mif\u001b[39;00m \u001b[39mself\u001b[39m\u001b[39m.\u001b[39mcfg[\u001b[39m\"\u001b[39m\u001b[39moutput\u001b[39m\u001b[39m\"\u001b[39m][\u001b[39m\"\u001b[39m\u001b[39mdebug\u001b[39m\u001b[39m\"\u001b[39m][\u001b[39m\"\u001b[39m\u001b[39mshow_peak_selection_plots\u001b[39m\u001b[39m\"\u001b[39m]:\n\u001b[1;32m    316\u001b[0m         \u001b[39mself\u001b[39m\u001b[39m.\u001b[39mpeak_selection_debug_plot_slf(working_mask)\n",
      "File \u001b[0;32m~/.pyenv/versions/3.11.4/lib/python3.11/site-packages/pywhiten/data/Periodogram.py:278\u001b[0m, in \u001b[0;36mPeriodogram.sig_slf\u001b[0;34m(self, center_val_freq, freq_amp)\u001b[0m\n\u001b[1;32m    267\u001b[0m \u001b[39m\u001b[39m\u001b[39m\"\"\"\u001b[39;00m\n\u001b[1;32m    268\u001b[0m \u001b[39mFind the significance of a periodic component model by comparing its amplitude against a low-order polynomial\u001b[39;00m\n\u001b[1;32m    269\u001b[0m \u001b[39mfit to the log-log residual periodogram. Conducts an order-5 polynomial fit if a polynomial fit hasn't yet\u001b[39;00m\n\u001b[0;32m   (...)\u001b[0m\n\u001b[1;32m    275\u001b[0m \u001b[39m    float: A measured significance for the input periodic component\u001b[39;00m\n\u001b[1;32m    276\u001b[0m \u001b[39m        \"\"\"\u001b[39;00m\n\u001b[1;32m    277\u001b[0m \u001b[39mif\u001b[39;00m \u001b[39mself\u001b[39m\u001b[39m.\u001b[39mslf_p \u001b[39mis\u001b[39;00m \u001b[39mNone\u001b[39;00m:\n\u001b[0;32m--> 278\u001b[0m     \u001b[39mself\u001b[39;49m\u001b[39m.\u001b[39;49mfit_slf()\n\u001b[1;32m    279\u001b[0m model_at_val \u001b[39m=\u001b[39m \u001b[39mself\u001b[39m\u001b[39m.\u001b[39meval_slf_model(center_val_freq)\n\u001b[1;32m    280\u001b[0m \u001b[39mreturn\u001b[39;00m freq_amp \u001b[39m/\u001b[39m model_at_val\n",
      "File \u001b[0;32m~/.pyenv/versions/3.11.4/lib/python3.11/site-packages/pywhiten/data/Periodogram.py:262\u001b[0m, in \u001b[0;36mPeriodogram.fit_slf\u001b[0;34m(self)\u001b[0m\n\u001b[1;32m    255\u001b[0m \u001b[39m\u001b[39m\u001b[39m\"\"\"\u001b[39;00m\n\u001b[1;32m    256\u001b[0m \u001b[39mFits the periodogram with a red noise + white noise model from Bowman et al. (2019). Stores the parameters in\u001b[39;00m\n\u001b[1;32m    257\u001b[0m \u001b[39mthe attribute slf_p, and parameter uncertainties in slf_p_err\u001b[39;00m\n\u001b[1;32m    258\u001b[0m \u001b[39mReturns:\u001b[39;00m\n\u001b[1;32m    259\u001b[0m \u001b[39m    Nothing\u001b[39;00m\n\u001b[1;32m    260\u001b[0m \u001b[39m\"\"\"\u001b[39;00m\n\u001b[1;32m    261\u001b[0m p0 \u001b[39m=\u001b[39m [\u001b[39m0.5\u001b[39m, np\u001b[39m.\u001b[39mmean(\u001b[39mself\u001b[39m\u001b[39m.\u001b[39mlsamp), \u001b[39m0.5\u001b[39m, \u001b[39m0\u001b[39m]\n\u001b[0;32m--> 262\u001b[0m p, covar \u001b[39m=\u001b[39m curve_fit(slf_noise, xdata\u001b[39m=\u001b[39;49m\u001b[39mself\u001b[39;49m\u001b[39m.\u001b[39;49mlsfreq, ydata\u001b[39m=\u001b[39;49m\u001b[39mself\u001b[39;49m\u001b[39m.\u001b[39;49mlsamp, p0\u001b[39m=\u001b[39;49mp0)\n\u001b[1;32m    263\u001b[0m \u001b[39mself\u001b[39m\u001b[39m.\u001b[39mslf_p \u001b[39m=\u001b[39m p\n\u001b[1;32m    264\u001b[0m \u001b[39mself\u001b[39m\u001b[39m.\u001b[39mslf_p_err \u001b[39m=\u001b[39m np\u001b[39m.\u001b[39marray([covar[i, i] \u001b[39mfor\u001b[39;00m i \u001b[39min\u001b[39;00m \u001b[39mrange\u001b[39m(\u001b[39mlen\u001b[39m(p))])\n",
      "File \u001b[0;32m~/.pyenv/versions/3.11.4/lib/python3.11/site-packages/scipy/optimize/_minpack_py.py:968\u001b[0m, in \u001b[0;36mcurve_fit\u001b[0;34m(f, xdata, ydata, p0, sigma, absolute_sigma, check_finite, bounds, method, jac, full_output, nan_policy, **kwargs)\u001b[0m\n\u001b[1;32m    966\u001b[0m     cost \u001b[39m=\u001b[39m np\u001b[39m.\u001b[39msum(infodict[\u001b[39m'\u001b[39m\u001b[39mfvec\u001b[39m\u001b[39m'\u001b[39m] \u001b[39m*\u001b[39m\u001b[39m*\u001b[39m \u001b[39m2\u001b[39m)\n\u001b[1;32m    967\u001b[0m     \u001b[39mif\u001b[39;00m ier \u001b[39mnot\u001b[39;00m \u001b[39min\u001b[39;00m [\u001b[39m1\u001b[39m, \u001b[39m2\u001b[39m, \u001b[39m3\u001b[39m, \u001b[39m4\u001b[39m]:\n\u001b[0;32m--> 968\u001b[0m         \u001b[39mraise\u001b[39;00m \u001b[39mRuntimeError\u001b[39;00m(\u001b[39m\"\u001b[39m\u001b[39mOptimal parameters not found: \u001b[39m\u001b[39m\"\u001b[39m \u001b[39m+\u001b[39m errmsg)\n\u001b[1;32m    969\u001b[0m \u001b[39melse\u001b[39;00m:\n\u001b[1;32m    970\u001b[0m     \u001b[39m# Rename maxfev (leastsq) to max_nfev (least_squares), if specified.\u001b[39;00m\n\u001b[1;32m    971\u001b[0m     \u001b[39mif\u001b[39;00m \u001b[39m'\u001b[39m\u001b[39mmax_nfev\u001b[39m\u001b[39m'\u001b[39m \u001b[39mnot\u001b[39;00m \u001b[39min\u001b[39;00m kwargs:\n",
      "\u001b[0;31mRuntimeError\u001b[0m: Optimal parameters not found: Number of calls to function has reached maxfev = 1000."
     ]
    }
   ],
   "source": [
    "pywhitener.auto()\n",
    "# for i in range(30):\n",
    "#     pywhitener.it_pw()"
   ]
  },
  {
   "cell_type": "code",
   "execution_count": 148,
   "metadata": {},
   "outputs": [
    {
     "ename": "RuntimeError",
     "evalue": "Optimal parameters not found: Number of calls to function has reached maxfev = 1000.",
     "output_type": "error",
     "traceback": [
      "\u001b[0;31m---------------------------------------------------------------------------\u001b[0m",
      "\u001b[0;31mRuntimeError\u001b[0m                              Traceback (most recent call last)",
      "Cell \u001b[0;32mIn[148], line 1\u001b[0m\n\u001b[0;32m----> 1\u001b[0m pywhitener\u001b[39m.\u001b[39;49mpost_pw()\n",
      "File \u001b[0;32m~/.pyenv/versions/3.11.4/lib/python3.11/site-packages/pywhiten/PyWhitener.py:192\u001b[0m, in \u001b[0;36mPyWhitener.post_pw\u001b[0;34m(self, residual_lc_idx)\u001b[0m\n\u001b[1;32m    182\u001b[0m \u001b[39mdef\u001b[39;00m \u001b[39mpost_pw\u001b[39m(\u001b[39mself\u001b[39m, residual_lc_idx : \u001b[39mint\u001b[39m \u001b[39m=\u001b[39m \u001b[39m-\u001b[39m\u001b[39m1\u001b[39m):\n\u001b[1;32m    183\u001b[0m \u001b[39m    \u001b[39m\u001b[39m\"\"\"\u001b[39;00m\n\u001b[1;32m    184\u001b[0m \u001b[39m    Conducts post-pre-whitening tasks. Principally, computes significances and parameters uncertainties for\u001b[39;00m\n\u001b[1;32m    185\u001b[0m \u001b[39m    frequencies\u001b[39;00m\n\u001b[0;32m   (...)\u001b[0m\n\u001b[1;32m    190\u001b[0m \u001b[39m        Nothing\u001b[39;00m\n\u001b[1;32m    191\u001b[0m \u001b[39m    \"\"\"\u001b[39;00m\n\u001b[0;32m--> 192\u001b[0m     \u001b[39mself\u001b[39;49m\u001b[39m.\u001b[39;49mfreqs\u001b[39m.\u001b[39;49mcompute_significances(\u001b[39mself\u001b[39;49m\u001b[39m.\u001b[39;49mlcs[residual_lc_idx]\u001b[39m.\u001b[39;49mperiodogram)\n\u001b[1;32m    193\u001b[0m     \u001b[39mself\u001b[39m\u001b[39m.\u001b[39mfreqs\u001b[39m.\u001b[39mcompute_parameter_uncertainties(\u001b[39mself\u001b[39m\u001b[39m.\u001b[39mlcs[residual_lc_idx])\n\u001b[1;32m    194\u001b[0m     \u001b[39mself\u001b[39m\u001b[39m.\u001b[39moutput_manager\u001b[39m.\u001b[39msave_freqs(freqs\u001b[39m=\u001b[39m\u001b[39mself\u001b[39m\u001b[39m.\u001b[39mfreqs)\n",
      "File \u001b[0;32m~/.pyenv/versions/3.11.4/lib/python3.11/site-packages/pywhiten/data/FrequencyContainer.py:74\u001b[0m, in \u001b[0;36mFrequencyContainer.compute_significances\u001b[0;34m(self, residual_periodogram, eval)\u001b[0m\n\u001b[1;32m     72\u001b[0m \u001b[39mfor\u001b[39;00m i \u001b[39min\u001b[39;00m \u001b[39mrange\u001b[39m(\u001b[39mlen\u001b[39m(\u001b[39mself\u001b[39m\u001b[39m.\u001b[39mflist)):\n\u001b[1;32m     73\u001b[0m     \u001b[39mif\u001b[39;00m \u001b[39m\"\u001b[39m\u001b[39mslf\u001b[39m\u001b[39m\"\u001b[39m \u001b[39min\u001b[39;00m \u001b[39meval\u001b[39m:\n\u001b[0;32m---> 74\u001b[0m         \u001b[39mself\u001b[39m\u001b[39m.\u001b[39mflist[i]\u001b[39m.\u001b[39msig_slf \u001b[39m=\u001b[39m residual_periodogram\u001b[39m.\u001b[39;49msig_slf(\u001b[39mself\u001b[39;49m\u001b[39m.\u001b[39;49mflist[i]\u001b[39m.\u001b[39;49mf, \u001b[39mself\u001b[39;49m\u001b[39m.\u001b[39;49mflist[i]\u001b[39m.\u001b[39;49ma)\n\u001b[1;32m     75\u001b[0m     \u001b[39mif\u001b[39;00m \u001b[39m\"\u001b[39m\u001b[39mbox\u001b[39m\u001b[39m\"\u001b[39m \u001b[39min\u001b[39;00m \u001b[39meval\u001b[39m:\n\u001b[1;32m     76\u001b[0m         \u001b[39mself\u001b[39m\u001b[39m.\u001b[39mflist[i]\u001b[39m.\u001b[39msig_box \u001b[39m=\u001b[39m residual_periodogram\u001b[39m.\u001b[39msig_box(\u001b[39mself\u001b[39m\u001b[39m.\u001b[39mflist[i]\u001b[39m.\u001b[39mf, \u001b[39mself\u001b[39m\u001b[39m.\u001b[39mflist[i]\u001b[39m.\u001b[39ma)\n",
      "File \u001b[0;32m~/.pyenv/versions/3.11.4/lib/python3.11/site-packages/pywhiten/data/Periodogram.py:278\u001b[0m, in \u001b[0;36mPeriodogram.sig_slf\u001b[0;34m(self, center_val_freq, freq_amp)\u001b[0m\n\u001b[1;32m    267\u001b[0m \u001b[39m\u001b[39m\u001b[39m\"\"\"\u001b[39;00m\n\u001b[1;32m    268\u001b[0m \u001b[39mFind the significance of a periodic component model by comparing its amplitude against a low-order polynomial\u001b[39;00m\n\u001b[1;32m    269\u001b[0m \u001b[39mfit to the log-log residual periodogram. Conducts an order-5 polynomial fit if a polynomial fit hasn't yet\u001b[39;00m\n\u001b[0;32m   (...)\u001b[0m\n\u001b[1;32m    275\u001b[0m \u001b[39m    float: A measured significance for the input periodic component\u001b[39;00m\n\u001b[1;32m    276\u001b[0m \u001b[39m        \"\"\"\u001b[39;00m\n\u001b[1;32m    277\u001b[0m \u001b[39mif\u001b[39;00m \u001b[39mself\u001b[39m\u001b[39m.\u001b[39mslf_p \u001b[39mis\u001b[39;00m \u001b[39mNone\u001b[39;00m:\n\u001b[0;32m--> 278\u001b[0m     \u001b[39mself\u001b[39;49m\u001b[39m.\u001b[39;49mfit_slf()\n\u001b[1;32m    279\u001b[0m model_at_val \u001b[39m=\u001b[39m \u001b[39mself\u001b[39m\u001b[39m.\u001b[39meval_slf_model(center_val_freq)\n\u001b[1;32m    280\u001b[0m \u001b[39mreturn\u001b[39;00m freq_amp \u001b[39m/\u001b[39m model_at_val\n",
      "File \u001b[0;32m~/.pyenv/versions/3.11.4/lib/python3.11/site-packages/pywhiten/data/Periodogram.py:262\u001b[0m, in \u001b[0;36mPeriodogram.fit_slf\u001b[0;34m(self)\u001b[0m\n\u001b[1;32m    255\u001b[0m \u001b[39m\u001b[39m\u001b[39m\"\"\"\u001b[39;00m\n\u001b[1;32m    256\u001b[0m \u001b[39mFits the periodogram with a red noise + white noise model from Bowman et al. (2019). Stores the parameters in\u001b[39;00m\n\u001b[1;32m    257\u001b[0m \u001b[39mthe attribute slf_p, and parameter uncertainties in slf_p_err\u001b[39;00m\n\u001b[1;32m    258\u001b[0m \u001b[39mReturns:\u001b[39;00m\n\u001b[1;32m    259\u001b[0m \u001b[39m    Nothing\u001b[39;00m\n\u001b[1;32m    260\u001b[0m \u001b[39m\"\"\"\u001b[39;00m\n\u001b[1;32m    261\u001b[0m p0 \u001b[39m=\u001b[39m [\u001b[39m0.5\u001b[39m, np\u001b[39m.\u001b[39mmean(\u001b[39mself\u001b[39m\u001b[39m.\u001b[39mlsamp), \u001b[39m0.5\u001b[39m, \u001b[39m0\u001b[39m]\n\u001b[0;32m--> 262\u001b[0m p, covar \u001b[39m=\u001b[39m curve_fit(slf_noise, xdata\u001b[39m=\u001b[39;49m\u001b[39mself\u001b[39;49m\u001b[39m.\u001b[39;49mlsfreq, ydata\u001b[39m=\u001b[39;49m\u001b[39mself\u001b[39;49m\u001b[39m.\u001b[39;49mlsamp, p0\u001b[39m=\u001b[39;49mp0)\n\u001b[1;32m    263\u001b[0m \u001b[39mself\u001b[39m\u001b[39m.\u001b[39mslf_p \u001b[39m=\u001b[39m p\n\u001b[1;32m    264\u001b[0m \u001b[39mself\u001b[39m\u001b[39m.\u001b[39mslf_p_err \u001b[39m=\u001b[39m np\u001b[39m.\u001b[39marray([covar[i, i] \u001b[39mfor\u001b[39;00m i \u001b[39min\u001b[39;00m \u001b[39mrange\u001b[39m(\u001b[39mlen\u001b[39m(p))])\n",
      "File \u001b[0;32m~/.pyenv/versions/3.11.4/lib/python3.11/site-packages/scipy/optimize/_minpack_py.py:968\u001b[0m, in \u001b[0;36mcurve_fit\u001b[0;34m(f, xdata, ydata, p0, sigma, absolute_sigma, check_finite, bounds, method, jac, full_output, nan_policy, **kwargs)\u001b[0m\n\u001b[1;32m    966\u001b[0m     cost \u001b[39m=\u001b[39m np\u001b[39m.\u001b[39msum(infodict[\u001b[39m'\u001b[39m\u001b[39mfvec\u001b[39m\u001b[39m'\u001b[39m] \u001b[39m*\u001b[39m\u001b[39m*\u001b[39m \u001b[39m2\u001b[39m)\n\u001b[1;32m    967\u001b[0m     \u001b[39mif\u001b[39;00m ier \u001b[39mnot\u001b[39;00m \u001b[39min\u001b[39;00m [\u001b[39m1\u001b[39m, \u001b[39m2\u001b[39m, \u001b[39m3\u001b[39m, \u001b[39m4\u001b[39m]:\n\u001b[0;32m--> 968\u001b[0m         \u001b[39mraise\u001b[39;00m \u001b[39mRuntimeError\u001b[39;00m(\u001b[39m\"\u001b[39m\u001b[39mOptimal parameters not found: \u001b[39m\u001b[39m\"\u001b[39m \u001b[39m+\u001b[39m errmsg)\n\u001b[1;32m    969\u001b[0m \u001b[39melse\u001b[39;00m:\n\u001b[1;32m    970\u001b[0m     \u001b[39m# Rename maxfev (leastsq) to max_nfev (least_squares), if specified.\u001b[39;00m\n\u001b[1;32m    971\u001b[0m     \u001b[39mif\u001b[39;00m \u001b[39m'\u001b[39m\u001b[39mmax_nfev\u001b[39m\u001b[39m'\u001b[39m \u001b[39mnot\u001b[39;00m \u001b[39min\u001b[39;00m kwargs:\n",
      "\u001b[0;31mRuntimeError\u001b[0m: Optimal parameters not found: Number of calls to function has reached maxfev = 1000."
     ]
    }
   ],
   "source": [
    "pywhitener.post_pw()"
   ]
  },
  {
   "cell_type": "code",
   "execution_count": null,
   "metadata": {},
   "outputs": [],
   "source": []
  },
  {
   "cell_type": "code",
   "execution_count": null,
   "metadata": {},
   "outputs": [],
   "source": []
  }
 ],
 "metadata": {
  "kernelspec": {
   "display_name": "Python 3",
   "language": "python",
   "name": "python3"
  },
  "language_info": {
   "codemirror_mode": {
    "name": "ipython",
    "version": 3
   },
   "file_extension": ".py",
   "mimetype": "text/x-python",
   "name": "python",
   "nbconvert_exporter": "python",
   "pygments_lexer": "ipython3",
   "version": "3.11.4"
  },
  "orig_nbformat": 4
 },
 "nbformat": 4,
 "nbformat_minor": 2
}
